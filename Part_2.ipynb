{
 "cells": [
  {
   "cell_type": "code",
   "execution_count": 1,
   "metadata": {
    "colab": {
     "base_uri": "https://localhost:8080/"
    },
    "executionInfo": {
     "elapsed": 42890,
     "status": "ok",
     "timestamp": 1698183229501,
     "user": {
      "displayName": "Alexander Booth",
      "userId": "02269714993535573104"
     },
     "user_tz": 300
    },
    "id": "a_KW73O2e3dw",
    "outputId": "4d33fde3-7dd9-4f6f-c9d3-66bc923691a1"
   },
   "outputs": [
    {
     "name": "stdout",
     "output_type": "stream",
     "text": [
      "\r",
      "0% [Working]\r",
      "            \r",
      "Get:1 https://developer.download.nvidia.com/compute/cuda/repos/ubuntu2204/x86_64  InRelease [1,581 B]\n",
      "Get:2 https://cloud.r-project.org/bin/linux/ubuntu jammy-cran40/ InRelease [3,626 B]\n",
      "Get:3 https://developer.download.nvidia.com/compute/cuda/repos/ubuntu2204/x86_64  Packages [556 kB]\n",
      "Hit:4 http://archive.ubuntu.com/ubuntu jammy InRelease\n",
      "Get:5 http://archive.ubuntu.com/ubuntu jammy-updates InRelease [119 kB]\n",
      "Get:6 http://security.ubuntu.com/ubuntu jammy-security InRelease [110 kB]\n",
      "Hit:7 https://ppa.launchpadcontent.net/c2d4u.team/c2d4u4.0+/ubuntu jammy InRelease\n",
      "Get:8 http://archive.ubuntu.com/ubuntu jammy-backports InRelease [109 kB]\n",
      "Get:9 http://archive.ubuntu.com/ubuntu jammy-updates/universe amd64 Packages [1,274 kB]\n",
      "Get:10 http://archive.ubuntu.com/ubuntu jammy-updates/main amd64 Packages [1,398 kB]\n",
      "Get:11 https://ppa.launchpadcontent.net/deadsnakes/ppa/ubuntu jammy InRelease [18.1 kB]\n",
      "Get:12 http://security.ubuntu.com/ubuntu jammy-security/universe amd64 Packages [1,009 kB]\n",
      "Get:13 http://security.ubuntu.com/ubuntu jammy-security/main amd64 Packages [1,131 kB]\n",
      "Get:14 https://ppa.launchpadcontent.net/graphics-drivers/ppa/ubuntu jammy InRelease [24.3 kB]\n",
      "Hit:15 https://ppa.launchpadcontent.net/ubuntugis/ppa/ubuntu jammy InRelease\n",
      "Get:16 https://ppa.launchpadcontent.net/deadsnakes/ppa/ubuntu jammy/main amd64 Packages [27.7 kB]\n",
      "Get:17 https://ppa.launchpadcontent.net/graphics-drivers/ppa/ubuntu jammy/main amd64 Packages [40.1 kB]\n",
      "Fetched 5,821 kB in 4s (1,390 kB/s)\n",
      "Reading package lists... Done\n"
     ]
    }
   ],
   "source": [
    "import os\n",
    "\n",
    "# Set the Spark version to 'spark-3.5.0'\n",
    "spark_version = 'spark-3.5.0'\n",
    "os.environ['SPARK_VERSION'] = spark_version\n",
    "\n",
    "# Install Spark and Java\n",
    "\n",
    "# Set Environment Variables\n",
    "os.environ[\"JAVA_HOME\"] = \"/usr/lib/jvm/java-11-openjdk-amd64\"\n",
    "os.environ[\"SPARK_HOME\"] = f\"/content/{spark_version}-bin-hadoop3\"\n",
    "\n",
    "# Start a SparkSession\n",
    "import findspark\n",
    "findspark.init()"
   ]
  },
  {
   "cell_type": "code",
   "execution_count": 2,
   "metadata": {
    "executionInfo": {
     "elapsed": 11265,
     "status": "ok",
     "timestamp": 1698183240762,
     "user": {
      "displayName": "Alexander Booth",
      "userId": "02269714993535573104"
     },
     "user_tz": 300
    },
    "id": "2XbWNf1Te5fM"
   },
   "outputs": [],
   "source": [
    "# Import necessary libraries\n",
    "from pyspark.sql import SparkSession\n",
    "\n",
    "# Create a SparkSession\n",
    "spark = SparkSession.builder.appName(\"SparkSQL\").getOrCreate()\n"
   ]
  },
  {
   "cell_type": "code",
   "execution_count": 3,
   "metadata": {
    "colab": {
     "base_uri": "https://localhost:8080/"
    },
    "executionInfo": {
     "elapsed": 15789,
     "status": "ok",
     "timestamp": 1698183256548,
     "user": {
      "displayName": "Alexander Booth",
      "userId": "02269714993535573104"
     },
     "user_tz": 300
    },
    "id": "wOJqxG_RPSwp",
    "outputId": "74b5b402-7afd-4ed1-bcf1-6405a8db28d3"
   },
   "outputs": [
    {
     "name": "stdout",
     "output_type": "stream",
     "text": [
      "+--------------------+----------+----------+------+--------+---------+-----------+--------+------+----------+----+\n",
      "|                  id|      date|date_built| price|bedrooms|bathrooms|sqft_living|sqft_lot|floors|waterfront|view|\n",
      "+--------------------+----------+----------+------+--------+---------+-----------+--------+------+----------+----+\n",
      "|f8a53099-ba1c-47d...|2022-04-08|      2016|936923|       4|        3|       3167|   11733|     2|         1|  76|\n",
      "|7530a2d8-1ae3-451...|2021-06-13|      2013|379628|       2|        2|       2235|   14384|     1|         0|  23|\n",
      "|43de979c-0bf0-4c9...|2019-04-12|      2014|417866|       2|        2|       2127|   10575|     2|         0|   0|\n",
      "|b672c137-b88c-48b...|2019-10-16|      2016|239895|       2|        2|       1631|   11149|     2|         0|   0|\n",
      "|e0726d4d-d595-407...|2022-01-08|      2017|424418|       3|        2|       2249|   13878|     2|         0|   4|\n",
      "|5aa00529-0533-46b...|2019-01-30|      2017|218712|       2|        3|       1965|   14375|     2|         0|   7|\n",
      "|131492a1-72e2-4a8...|2020-02-08|      2017|419199|       2|        3|       2062|    8876|     2|         0|   6|\n",
      "|8d54a71b-c520-44e...|2019-07-21|      2010|323956|       2|        3|       1506|   11816|     1|         0|  25|\n",
      "|e81aacfe-17fe-46b...|2020-06-16|      2016|181925|       3|        3|       2137|   11709|     2|         0|  22|\n",
      "|2ed8d509-7372-46d...|2021-08-06|      2015|258710|       3|        3|       1918|    9666|     1|         0|  25|\n",
      "|f876d86f-3c9f-42b...|2019-02-27|      2011|167864|       3|        3|       2471|   13924|     2|         0|  15|\n",
      "|0a2bd445-8508-4d8...|2021-12-30|      2014|337527|       2|        3|       1926|   12556|     1|         0|  23|\n",
      "|941bad30-eb49-4a7...|2020-05-09|      2015|229896|       3|        3|       2197|    8641|     1|         0|   3|\n",
      "|dd61eb34-6589-4c0...|2021-07-25|      2016|210247|       3|        2|       1672|   11986|     2|         0|  28|\n",
      "|f1e4cef7-d151-439...|2019-02-01|      2011|398667|       2|        3|       2331|   11356|     1|         0|   7|\n",
      "|ea620c7b-c2f7-4c6...|2021-05-31|      2011|437958|       3|        3|       2356|   11052|     1|         0|  26|\n",
      "|f233cb41-6f33-4b0...|2021-07-18|      2016|437375|       4|        3|       1704|   11721|     2|         0|  34|\n",
      "|c797ca12-52cd-4b1...|2019-06-08|      2015|288650|       2|        3|       2100|   10419|     2|         0|   7|\n",
      "|0cfe57f3-28c2-472...|2019-10-04|      2015|308313|       3|        3|       1960|    9453|     2|         0|   2|\n",
      "|4566cd2a-ac6e-435...|2019-07-15|      2016|177541|       3|        3|       2130|   10517|     2|         0|  25|\n",
      "+--------------------+----------+----------+------+--------+---------+-----------+--------+------+----------+----+\n",
      "only showing top 20 rows\n",
      "\n"
     ]
    }
   ],
   "source": [
    "# Read in the AWS S3 bucket into a DataFrame\n",
    "from pyspark import SparkFiles\n",
    "url = \"https://2u-data-curriculum-team.s3.amazonaws.com/dataviz-classroom/v1.2/22-big-data/partitioned_home_sales_view_revised.csv\"\n",
    "spark.sparkContext.addFile(url)\n",
    "partitioned_home_sales_view_df = spark.read.csv(SparkFiles.get(\"partitioned_home_sales_view_revised.csv\"), sep=\",\", header=True)\n",
    "partitioned_home_sales_view_df.show()\n",
    "\n",
    "\n",
    "# Creating a temporary table from the DataFrame\n",
    "df_home_sales.createOrReplaceTempView('home_sales')"
   ]
  },
  {
   "cell_type": "code",
   "execution_count": 4,
   "metadata": {
    "executionInfo": {
     "elapsed": 16,
     "status": "ok",
     "timestamp": 1698183256549,
     "user": {
      "displayName": "Alexander Booth",
      "userId": "02269714993535573104"
     },
     "user_tz": 300
    },
    "id": "RoljcJ7WPpnm"
   },
   "outputs": [],
   "source": [
    "# Create a temporary view of the DataFrame\n",
    "partitioned_home_sales_view_df.createOrReplaceTempView('partitioned_home_sales_view')\n"
   ]
  },
  {
   "cell_type": "code",
   "execution_count": 5,
   "metadata": {
    "colab": {
     "base_uri": "https://localhost:8080/"
    },
    "executionInfo": {
     "elapsed": 3136,
     "status": "ok",
     "timestamp": 1698183259671,
     "user": {
      "displayName": "Alexander Booth",
      "userId": "02269714993535573104"
     },
     "user_tz": 300
    },
    "id": "l8p_tUS8h8it",
    "outputId": "92b93e13-1b71-4a50-91b5-ed1bbecdd788"
   },
   "outputs": [
    {
     "name": "stdout",
     "output_type": "stream",
     "text": [
      "+----+-------------+\n",
      "|YEAR|AVERAGE_PRICE|\n",
      "+----+-------------+\n",
      "|2022|    296363.88|\n",
      "|2021|    301819.44|\n",
      "|2020|    298353.78|\n",
      "|2019|     300263.7|\n",
      "+----+-------------+\n",
      "\n"
     ]
    }
   ],
   "source": [
    "# SQL queries\n",
    "\n",
    "# 1. Average price for a four-bedroom house sold in each year\n",
    "sql_1 = \"\"\"\n",
    "SELECT\n",
    "  YEAR(date) AS YEAR,\n",
    "  ROUND(AVG(price), 2) AS AVERAGE_PRICE\n",
    "FROM partitioned_home_sales_view\n",
    "WHERE bedrooms = 4\n",
    "GROUP BY YEAR\n",
    "ORDER BY YEAR DESC\n",
    "\"\"\"\n",
    "spark.sql(sql_1).show()\n",
    "\n"
   ]
  },
  {
   "cell_type": "code",
   "execution_count": 6,
   "metadata": {
    "colab": {
     "base_uri": "https://localhost:8080/"
    },
    "executionInfo": {
     "elapsed": 1278,
     "status": "ok",
     "timestamp": 1698183260944,
     "user": {
      "displayName": "Alexander Booth",
      "userId": "02269714993535573104"
     },
     "user_tz": 300
    },
    "id": "Y-Eytz64liDU",
    "outputId": "7e436d9b-3530-489d-ab10-57d7a4205ffe"
   },
   "outputs": [
    {
     "name": "stdout",
     "output_type": "stream",
     "text": [
      "+----+-------------+\n",
      "|YEAR|AVERAGE_PRICE|\n",
      "+----+-------------+\n",
      "|2017|    292676.79|\n",
      "|2016|    290555.07|\n",
      "|2015|     288770.3|\n",
      "|2014|    290852.27|\n",
      "|2013|    295962.27|\n",
      "|2012|    293683.19|\n",
      "|2011|    291117.47|\n",
      "|2010|    292859.62|\n",
      "+----+-------------+\n",
      "\n"
     ]
    }
   ],
   "source": [
    "# 2. Average price of a home for each year built with 3 bedrooms and 3 bathrooms\n",
    "sql_2 = \"\"\"\n",
    "SELECT\n",
    "  YEAR(date_built) AS YEAR,\n",
    "  ROUND(AVG(price), 2) AS AVERAGE_PRICE\n",
    "FROM partitioned_home_sales_view\n",
    "WHERE bedrooms = 3\n",
    "AND bathrooms = 3\n",
    "GROUP BY YEAR(date_built)\n",
    "ORDER BY YEAR DESC\n",
    "\"\"\"\n",
    "spark.sql(sql_2).show()\n"
   ]
  },
  {
   "cell_type": "code",
   "execution_count": 7,
   "metadata": {
    "colab": {
     "base_uri": "https://localhost:8080/"
    },
    "executionInfo": {
     "elapsed": 1236,
     "status": "ok",
     "timestamp": 1698183262177,
     "user": {
      "displayName": "Alexander Booth",
      "userId": "02269714993535573104"
     },
     "user_tz": 300
    },
    "id": "L6fkwOeOmqvq",
    "outputId": "3aef5d10-32f9-461e-ce1a-4c6e908304cf"
   },
   "outputs": [
    {
     "name": "stdout",
     "output_type": "stream",
     "text": [
      "+----------+-------------+\n",
      "|YEAR_BUILT|AVERAGE_PRICE|\n",
      "+----------+-------------+\n",
      "|      2017|    280317.58|\n",
      "|      2016|     293965.1|\n",
      "|      2015|    297609.97|\n",
      "|      2014|    298264.72|\n",
      "|      2013|    303676.79|\n",
      "|      2012|    307539.97|\n",
      "|      2011|    276553.81|\n",
      "|      2010|    285010.22|\n",
      "+----------+-------------+\n",
      "\n"
     ]
    }
   ],
   "source": [
    "# 3. Average price of a home for each year built with specific criteria\n",
    "sql_3 = \"\"\"\n",
    "SELECT\n",
    "  YEAR(date_built) AS YEAR_BUILT,\n",
    "  ROUND(AVG(price), 2) AS AVERAGE_PRICE\n",
    "FROM partitioned_home_sales_view\n",
    "WHERE bedrooms = 3\n",
    "AND bathrooms = 3\n",
    "AND sqft_living >= 2000\n",
    "AND floors = 2\n",
    "GROUP BY YEAR_BUILT\n",
    "ORDER BY YEAR_BUILT DESC\n",
    "\"\"\"\n",
    "spark.sql(sql_3).show()\n"
   ]
  },
  {
   "cell_type": "code",
   "execution_count": 8,
   "metadata": {
    "colab": {
     "base_uri": "https://localhost:8080/"
    },
    "executionInfo": {
     "elapsed": 1266,
     "status": "ok",
     "timestamp": 1698183263439,
     "user": {
      "displayName": "Alexander Booth",
      "userId": "02269714993535573104"
     },
     "user_tz": 300
    },
    "id": "inO4X6wyx9RF",
    "outputId": "f15c39e1-3503-4b2f-e25d-73c765e1ac0e"
   },
   "outputs": [
    {
     "name": "stdout",
     "output_type": "stream",
     "text": [
      "+----+-------------+\n",
      "|view|AVERAGE_PRICE|\n",
      "+----+-------------+\n",
      "|  99|   1061201.42|\n",
      "|  98|   1053739.33|\n",
      "|  97|   1129040.15|\n",
      "|  96|   1017815.92|\n",
      "|  95|    1054325.6|\n",
      "|  94|    1033536.2|\n",
      "|  93|   1026006.06|\n",
      "|  92|    970402.55|\n",
      "|  91|   1137372.73|\n",
      "|  90|   1062654.16|\n",
      "|  89|   1107839.15|\n",
      "|  88|   1031719.35|\n",
      "|  87|    1072285.2|\n",
      "|  86|   1070444.25|\n",
      "|  85|   1056336.74|\n",
      "|  84|   1117233.13|\n",
      "|  83|   1033965.93|\n",
      "|  82|    1063498.0|\n",
      "|  81|   1053472.79|\n",
      "|  80|    991767.38|\n",
      "+----+-------------+\n",
      "only showing top 20 rows\n",
      "\n",
      "--- 1.2471935749053955 seconds ---\n"
     ]
    }
   ],
   "source": [
    "# Timing the query for average prices of homes with views and prices above a threshold\n",
    "start_query_time = time.time()\n",
    "\n",
    "query_view_rating_avg_price = \"\"\"\n",
    "SELECT\n",
    "  view AS home_view,\n",
    "  ROUND(AVG(price), 2) AS avg_price\n",
    "FROM partitioned_home_sales_view\n",
    "WHERE price >= 350000\n",
    "GROUP BY home_view\n",
    "ORDER BY home_view DESC\n",
    "\"\"\"\n",
    "result_view_rating_avg_price = spark.sql(query_view_rating_avg_price)\n",
    "result_view_rating_avg_price.show()\n",
    "\n",
    "\n",
    "elapsed_time_query = time.time() - start_query_time\n",
    "print(f\"Query elapsed time: {elapsed_time_query:.2f} seconds\")\n"
   ]
  },
  {
   "cell_type": "code",
   "execution_count": 9,
   "metadata": {
    "colab": {
     "base_uri": "https://localhost:8080/"
    },
    "executionInfo": {
     "elapsed": 2112,
     "status": "ok",
     "timestamp": 1698183265547,
     "user": {
      "displayName": "Alexander Booth",
      "userId": "02269714993535573104"
     },
     "user_tz": 300
    },
    "id": "KAhk3ZD2tFy8",
    "outputId": "38fedc60-757f-459a-e347-f9a6d75f64ba"
   },
   "outputs": [
    {
     "data": {
      "text/plain": [
       "DataFrame[]"
      ]
     },
     "execution_count": 9,
     "metadata": {},
     "output_type": "execute_result"
    }
   ],
   "source": [
    "# Caching the partitioned_home_sales_view data table\n",
    "spark.sql('CACHE TABLE partitioned_home_sales_view')\n"
   ]
  },
  {
   "cell_type": "code",
   "execution_count": 10,
   "metadata": {
    "colab": {
     "base_uri": "https://localhost:8080/"
    },
    "executionInfo": {
     "elapsed": 8,
     "status": "ok",
     "timestamp": 1698183265547,
     "user": {
      "displayName": "Alexander Booth",
      "userId": "02269714993535573104"
     },
     "user_tz": 300
    },
    "id": "4opVhbvxtL-i",
    "outputId": "b7d96b29-420c-49ba-ca81-a58002d34b7f"
   },
   "outputs": [
    {
     "data": {
      "text/plain": [
       "True"
      ]
     },
     "execution_count": 10,
     "metadata": {},
     "output_type": "execute_result"
    }
   ],
   "source": [
    "# Checking cache status of the partitioned_home_sales_view table\n",
    "partitioned_home_sales_view_cache_status = spark.catalog.isCached('partitioned_home_sales_view')\n",
    "print(f\"Home sales table cached: {partitioned_home_sales_view_cache_status}\")\n"
   ]
  },
  {
   "cell_type": "code",
   "execution_count": 11,
   "metadata": {
    "colab": {
     "base_uri": "https://localhost:8080/"
    },
    "executionInfo": {
     "elapsed": 1182,
     "status": "ok",
     "timestamp": 1698183266725,
     "user": {
      "displayName": "Alexander Booth",
      "userId": "02269714993535573104"
     },
     "user_tz": 300
    },
    "id": "GUrfgOX1pCRd",
    "outputId": "f1420c94-09d0-4fad-826b-2c76f6f83cbe"
   },
   "outputs": [
    {
     "name": "stdout",
     "output_type": "stream",
     "text": [
      "+----+-------------+\n",
      "|view|AVERAGE_PRICE|\n",
      "+----+-------------+\n",
      "|  99|   1061201.42|\n",
      "|  98|   1053739.33|\n",
      "|  97|   1129040.15|\n",
      "|  96|   1017815.92|\n",
      "|  95|    1054325.6|\n",
      "|  94|    1033536.2|\n",
      "|  93|   1026006.06|\n",
      "|  92|    970402.55|\n",
      "|  91|   1137372.73|\n",
      "|  90|   1062654.16|\n",
      "|  89|   1107839.15|\n",
      "|  88|   1031719.35|\n",
      "|  87|    1072285.2|\n",
      "|  86|   1070444.25|\n",
      "|  85|   1056336.74|\n",
      "|  84|   1117233.13|\n",
      "|  83|   1033965.93|\n",
      "|  82|    1063498.0|\n",
      "|  81|   1053472.79|\n",
      "|  80|    991767.38|\n",
      "+----+-------------+\n",
      "only showing top 20 rows\n",
      "\n",
      "--- 1.0824172496795654 seconds ---\n"
     ]
    }
   ],
   "source": [
    "# Re-running the query with cached data\n",
    "start_cached_query_time = time.time()\n",
    "\n",
    "result_cached_query = spark.sql(query_view_rating_avg_price)\n",
    "result_cached_query.show()\n",
    "\n",
    "elapsed_time_cached_query = time.time() - start_cached_query_time\n",
    "print(f\"Cached query elapsed time: {elapsed_time_cached_query:.2f} seconds\")\n"
   ]
  },
  {
   "cell_type": "code",
   "execution_count": 12,
   "metadata": {
    "executionInfo": {
     "elapsed": 4669,
     "status": "ok",
     "timestamp": 1698183271390,
     "user": {
      "displayName": "Alexander Booth",
      "userId": "02269714993535573104"
     },
     "user_tz": 300
    },
    "id": "Qm12WN9isHBR"
   },
   "outputs": [],
   "source": [
    "# Writing the DataFrame to a Parquet file, partitioned by date built\n",
    "parquet_output_path = '/tmp/partitioned_partitioned_home_sales_view'\n",
    "partitioned_home_sales_view_df.write.partitionBy('date_built').parquet(parquet_output_path, mode='overwrite')\n"
   ]
  },
  {
   "cell_type": "code",
   "execution_count": 13,
   "metadata": {
    "executionInfo": {
     "elapsed": 433,
     "status": "ok",
     "timestamp": 1698183271819,
     "user": {
      "displayName": "Alexander Booth",
      "userId": "02269714993535573104"
     },
     "user_tz": 300
    },
    "id": "AZ7BgY61sRqY"
   },
   "outputs": [],
   "source": [
    "# Reading from the partitioned Parquet file\n",
    "partitioned_partitioned_home_sales_view_data = spark.read.parquet(parquet_output_path)\n",
    "\n",
    "# Creating a temporary table from the DataFrame\n",
    "df_home_sales.createOrReplaceTempView('home_sales')"
   ]
  },
  {
   "cell_type": "code",
   "execution_count": 14,
   "metadata": {
    "executionInfo": {
     "elapsed": 2,
     "status": "ok",
     "timestamp": 1698183271819,
     "user": {
      "displayName": "Alexander Booth",
      "userId": "02269714993535573104"
     },
     "user_tz": 300
    },
    "id": "hjjYzQGjtbq8"
   },
   "outputs": [],
   "source": [
    "# Creating a new temporary view for the partitioned data\n",
    "partitioned_partitioned_home_sales_view_data.createOrReplaceTempView('partitioned_partitioned_home_sales_view')\n"
   ]
  },
  {
   "cell_type": "code",
   "execution_count": 15,
   "metadata": {
    "colab": {
     "base_uri": "https://localhost:8080/"
    },
    "executionInfo": {
     "elapsed": 1322,
     "status": "ok",
     "timestamp": 1698183273139,
     "user": {
      "displayName": "Alexander Booth",
      "userId": "02269714993535573104"
     },
     "user_tz": 300
    },
    "id": "rRQt69Nk8TGL",
    "outputId": "adc3fec7-70ee-4b62-a6e9-0ef192c14672"
   },
   "outputs": [
    {
     "name": "stdout",
     "output_type": "stream",
     "text": [
      "+----+-------------+\n",
      "|view|AVERAGE_PRICE|\n",
      "+----+-------------+\n",
      "|  99|   1061201.42|\n",
      "|  98|   1053739.33|\n",
      "|  97|   1129040.15|\n",
      "|  96|   1017815.92|\n",
      "|  95|    1054325.6|\n",
      "|  94|    1033536.2|\n",
      "|  93|   1026006.06|\n",
      "|  92|    970402.55|\n",
      "|  91|   1137372.73|\n",
      "|  90|   1062654.16|\n",
      "|  89|   1107839.15|\n",
      "|  88|   1031719.35|\n",
      "|  87|    1072285.2|\n",
      "|  86|   1070444.25|\n",
      "|  85|   1056336.74|\n",
      "|  84|   1117233.13|\n",
      "|  83|   1033965.93|\n",
      "|  82|    1063498.0|\n",
      "|  81|   1053472.79|\n",
      "|  80|    991767.38|\n",
      "+----+-------------+\n",
      "only showing top 20 rows\n",
      "\n",
      "--- 1.384225606918335 seconds ---\n"
     ]
    }
   ],
   "source": [
    "# Running a query on the Parquet DataFrame and timing it\n",
    "time_at_query_start_parquet = time.time()\n",
    "\n",
    "query_view_rating_parquet = \"\"\"\n",
    "SELECT\n",
    "  view AS view_category,\n",
    "  ROUND(AVG(price), 2) AS average_home_price\n",
    "FROM partitioned_partitioned_home_sales_view\n",
    "WHERE price >= 350000\n",
    "GROUP BY view_category\n",
    "ORDER BY view_category DESC\n",
    "\"\"\"\n",
    "result_view_rating_parquet = spark.sql(query_view_rating_parquet)\n",
    "result_view_rating_parquet.show()\n",
    "\n",
    "elapsed_time_parquet_query = time.time() - time_at_query_start_parquet\n",
    "print(f\"--- Parquet query runtime: {elapsed_time_parquet_query:.2f} seconds ---\")\n"
   ]
  },
  {
   "cell_type": "code",
   "execution_count": 16,
   "metadata": {
    "colab": {
     "base_uri": "https://localhost:8080/"
    },
    "executionInfo": {
     "elapsed": 129,
     "status": "ok",
     "timestamp": 1698183273266,
     "user": {
      "displayName": "Alexander Booth",
      "userId": "02269714993535573104"
     },
     "user_tz": 300
    },
    "id": "mjRDjYHh8iRu",
    "outputId": "25cf604c-e67e-40d4-bcfa-cbb3634a3402"
   },
   "outputs": [
    {
     "data": {
      "text/plain": [
       "DataFrame[]"
      ]
     },
     "execution_count": 16,
     "metadata": {},
     "output_type": "execute_result"
    }
   ],
   "source": [
    "# Uncaching the partitioned_home_sales_view table\n",
    "spark.sql('UNCACHE TABLE partitioned_home_sales_view')\n"
   ]
  },
  {
   "cell_type": "code",
   "execution_count": 17,
   "metadata": {
    "colab": {
     "base_uri": "https://localhost:8080/"
    },
    "executionInfo": {
     "elapsed": 4,
     "status": "ok",
     "timestamp": 1698183273267,
     "user": {
      "displayName": "Alexander Booth",
      "userId": "02269714993535573104"
     },
     "user_tz": 300
    },
    "id": "Sy9NBvO7tlmm",
    "outputId": "a5c59ece-8f91-412d-f421-a2048e698783"
   },
   "outputs": [
    {
     "name": "stdout",
     "output_type": "stream",
     "text": [
      "all clear\n"
     ]
    }
   ],
   "source": [
    "# Verifying if the partitioned_home_sales_view table has been uncached\n",
    "cache_status_partitioned_home_sales_view = spark.catalog.isCached('partitioned_home_sales_view')\n",
    "if cache_status_partitioned_home_sales_view:\n",
    "    print('partitioned_home_sales_view is still cached')\n",
    "else:\n",
    "    print('all clear')"
   ]
  },
  {
   "cell_type": "code",
   "execution_count": 17,
   "metadata": {
    "executionInfo": {
     "elapsed": 124,
     "status": "ok",
     "timestamp": 1698183273388,
     "user": {
      "displayName": "Alexander Booth",
      "userId": "02269714993535573104"
     },
     "user_tz": 300
    },
    "id": "eEyDiG-Z8lex"
   },
   "outputs": [],
   "source": []
  },
  {
   "cell_type": "code",
   "execution_count": null,
   "id": "f752824d",
   "metadata": {},
   "outputs": [],
   "source": [
    "\n",
    "SELECT year(date_built) AS year_built, ROUND(AVG(price), 2) AS avg_price\n",
    "FROM home_sales\n",
    "WHERE bedrooms = 3 AND bathrooms = 3\n",
    "GROUP BY year_built\n"
   ]
  },
  {
   "cell_type": "code",
   "execution_count": null,
   "id": "e075fa65",
   "metadata": {},
   "outputs": [],
   "source": [
    "\n",
    "SELECT year(date_built) AS year_built, ROUND(AVG(price), 2) AS avg_price\n",
    "FROM home_sales\n",
    "WHERE bedrooms = 3 AND bathrooms = 3 AND floors = 2 AND square_footage >= 2000\n",
    "GROUP BY year_built\n"
   ]
  },
  {
   "cell_type": "code",
   "execution_count": null,
   "id": "7059bcb7",
   "metadata": {},
   "outputs": [],
   "source": [
    "\n",
    "# Partitioning the DataFrame by 'date_built' and saving as Parquet\n",
    "df_home_sales.write.partitionBy('date_built').parquet('home_sales_parquet')\n",
    "\n",
    "# Reading the partitioned Parquet data\n",
    "df_home_sales_parquet = spark.read.parquet('home_sales_parquet')\n",
    "\n",
    "# Creating a temporary table from the Parquet DataFrame\n",
    "df_home_sales_parquet.createOrReplaceTempView('home_sales_parquet')\n"
   ]
  },
  {
   "cell_type": "code",
   "execution_count": null,
   "id": "825e2fdc",
   "metadata": {},
   "outputs": [],
   "source": [
    "\n",
    "SELECT year(date_built) AS year_built, ROUND(AVG(price), 2) AS avg_price\n",
    "FROM home_sales\n",
    "WHERE bedrooms = 3 AND bathrooms = 3\n",
    "GROUP BY year_built\n"
   ]
  },
  {
   "cell_type": "code",
   "execution_count": null,
   "id": "7848da08",
   "metadata": {},
   "outputs": [],
   "source": [
    "\n",
    "SELECT year(date_built) AS year_built, ROUND(AVG(price), 2) AS avg_price\n",
    "FROM home_sales\n",
    "WHERE bedrooms = 3 AND bathrooms = 3 AND floors = 2 AND square_footage >= 2000\n",
    "GROUP BY year_built\n"
   ]
  },
  {
   "cell_type": "code",
   "execution_count": null,
   "id": "6f3e7581",
   "metadata": {},
   "outputs": [],
   "source": [
    "\n",
    "# Checking if the table is cached\n",
    "cache_status = spark.catalog.isCached('home_sales')\n",
    "print('Is home_sales cached:', cache_status)\n",
    "\n",
    "# Running query on cached table (example)\n",
    "# ...\n",
    "\n",
    "# Partitioning by 'date_built' and handling parquet data\n",
    "# ...\n",
    "\n",
    "# Creating temporary table for parquet data\n",
    "# ...\n",
    "\n",
    "# Running query on parquet table (example)\n",
    "# ...\n",
    "\n",
    "# Uncaching the home_sales temporary table\n",
    "spark.sql('UNCACHE TABLE home_sales')\n",
    "\n",
    "# Verifying uncache\n",
    "uncache_status = not spark.catalog.isCached('home_sales')\n",
    "print('Is home_sales uncached:', uncache_status)\n"
   ]
  },
  {
   "cell_type": "code",
   "execution_count": null,
   "id": "5b2d4dce",
   "metadata": {},
   "outputs": [],
   "source": [
    "\n",
    "SELECT year(date_built) AS year_built, ROUND(AVG(price), 2) AS avg_price\n",
    "FROM home_sales\n",
    "WHERE bedrooms = 3 AND bathrooms = 3\n",
    "GROUP BY year_built\n"
   ]
  },
  {
   "cell_type": "code",
   "execution_count": null,
   "id": "1cd1b896",
   "metadata": {},
   "outputs": [],
   "source": [
    "\n",
    "SELECT year(date_built) AS year_built, ROUND(AVG(price), 2) AS avg_price\n",
    "FROM home_sales\n",
    "WHERE bedrooms = 3 AND bathrooms = 3 AND floors = 2 AND square_footage >= 2000\n",
    "GROUP BY year_built\n"
   ]
  },
  {
   "cell_type": "code",
   "execution_count": null,
   "id": "235fc973",
   "metadata": {},
   "outputs": [],
   "source": [
    "\n",
    "SELECT year(date_built) AS year_built, ROUND(AVG(price), 2) AS avg_price\n",
    "FROM home_sales\n",
    "WHERE bedrooms = 3 AND bathrooms = 3\n",
    "GROUP BY year(date_built)\n"
   ]
  },
  {
   "cell_type": "code",
   "execution_count": null,
   "id": "2a66d940",
   "metadata": {},
   "outputs": [],
   "source": [
    "\n",
    "SELECT year(date_built) AS year_built, ROUND(AVG(price), 2) AS avg_price\n",
    "FROM home_sales\n",
    "WHERE bedrooms = 3 AND bathrooms = 3 AND floors = 2 AND square_footage >= 2000\n",
    "GROUP BY year(date_built)\n"
   ]
  },
  {
   "cell_type": "code",
   "execution_count": null,
   "id": "438e48c4",
   "metadata": {},
   "outputs": [],
   "source": [
    "\n",
    "# Cache the temporary table\n",
    "spark.sql(\"CACHE TABLE home_sales\")\n",
    "\n",
    "# Check if table is cached\n",
    "is_cached = spark.catalog.isCached(\"home_sales\")\n",
    "print(\"Is home_sales cached:\", is_cached)\n",
    "\n",
    "# Run query on cached table (Placeholder for actual query)\n",
    "# ...\n",
    "\n",
    "# Partitioning by 'date_built' and handling parquet data\n",
    "# ...\n",
    "\n",
    "# Creating temporary table for parquet data\n",
    "# ...\n",
    "\n",
    "# Running query on parquet table (Placeholder for actual query)\n",
    "# ...\n",
    "\n",
    "# Uncaching the home_sales temporary table\n",
    "spark.sql(\"UNCACHE TABLE home_sales\")\n",
    "\n",
    "# Verifying uncache\n",
    "is_uncached = not spark.catalog.isCached(\"home_sales\")\n",
    "print(\"Is home_sales uncached:\", is_uncached)\n"
   ]
  },
  {
   "cell_type": "code",
   "execution_count": null,
   "id": "9a51d6da",
   "metadata": {},
   "outputs": [],
   "source": [
    "\n",
    "SELECT year(date_built) AS year_built, ROUND(AVG(price), 2) AS avg_price\n",
    "FROM home_sales\n",
    "WHERE bedrooms = 3 AND bathrooms = 3\n",
    "GROUP BY year(date_built)\n"
   ]
  },
  {
   "cell_type": "code",
   "execution_count": null,
   "id": "71b98039",
   "metadata": {},
   "outputs": [],
   "source": [
    "\n",
    "SELECT year(date_built) AS year_built, ROUND(AVG(price), 2) AS avg_price\n",
    "FROM home_sales\n",
    "WHERE bedrooms = 3 AND bathrooms = 3 AND floors = 2 AND square_footage >= 2000\n",
    "GROUP BY year(date_built)\n"
   ]
  },
  {
   "cell_type": "code",
   "execution_count": null,
   "id": "1116ebbe",
   "metadata": {},
   "outputs": [],
   "source": [
    "\n",
    "# Cache the temporary table\n",
    "spark.sql(\"CACHE TABLE home_sales\")\n",
    "\n",
    "# Check if table is cached\n",
    "is_cached = spark.catalog.isCached(\"home_sales\")\n",
    "print(\"Is home_sales cached:\", is_cached)\n",
    "\n",
    "# Partitioning by 'date_built' and handling parquet data\n",
    "# ...\n",
    "\n",
    "# Creating temporary table for parquet data\n",
    "# ...\n",
    "\n",
    "# Running query on parquet table (Placeholder for actual query)\n",
    "# ...\n",
    "\n",
    "# Uncaching the home_sales temporary table\n",
    "spark.sql(\"UNCACHE TABLE home_sales\")\n",
    "\n",
    "# Verifying uncache\n",
    "is_uncached = not spark.catalog.isCached(\"home_sales\")\n",
    "print(\"Is home_sales uncached:\", is_uncached)\n"
   ]
  },
  {
   "cell_type": "code",
   "execution_count": null,
   "id": "19334701",
   "metadata": {},
   "outputs": [],
   "source": [
    "\n",
    "SELECT year(date_built) AS year_built, ROUND(AVG(price), 2) AS avg_price\n",
    "FROM home_sales\n",
    "WHERE bedrooms = 3 AND bathrooms = 3\n",
    "GROUP BY year(date_built)\n"
   ]
  },
  {
   "cell_type": "code",
   "execution_count": null,
   "id": "9ec3df49",
   "metadata": {},
   "outputs": [],
   "source": [
    "\n",
    "SELECT year(date_built) AS year_built, ROUND(AVG(price), 2) AS avg_price\n",
    "FROM home_sales\n",
    "WHERE bedrooms = 3 AND bathrooms = 3 AND floors = 2 AND square_footage >= 2000\n",
    "GROUP BY year(date_built)\n"
   ]
  },
  {
   "cell_type": "code",
   "execution_count": null,
   "id": "434666d0",
   "metadata": {},
   "outputs": [],
   "source": [
    "\n",
    "# Cache the temporary table\n",
    "spark.sql(\"CACHE TABLE home_sales\")\n",
    "\n",
    "# Check if table is cached\n",
    "is_cached = spark.catalog.isCached(\"home_sales\")\n",
    "print(\"Is home_sales cached:\", is_cached)\n"
   ]
  },
  {
   "cell_type": "code",
   "execution_count": null,
   "id": "d8c4c1fc",
   "metadata": {},
   "outputs": [],
   "source": [
    "\n",
    "# Running query on cached table (Placeholder for actual query)\n",
    "# ...\n"
   ]
  },
  {
   "cell_type": "code",
   "execution_count": null,
   "id": "b3afa13b",
   "metadata": {},
   "outputs": [],
   "source": [
    "\n",
    "# Partitioning by 'date_built' and handling parquet data (Placeholder)\n",
    "# ...\n",
    "\n",
    "# Creating temporary table for parquet data (Placeholder)\n",
    "# ...\n"
   ]
  },
  {
   "cell_type": "code",
   "execution_count": null,
   "id": "6f72a9db",
   "metadata": {},
   "outputs": [],
   "source": [
    "\n",
    "# Running query on parquet table (Placeholder for actual query)\n",
    "# ...\n"
   ]
  },
  {
   "cell_type": "code",
   "execution_count": null,
   "id": "fdad3101",
   "metadata": {},
   "outputs": [],
   "source": [
    "\n",
    "# Uncaching the home_sales temporary table\n",
    "spark.sql(\"UNCACHE TABLE home_sales\")\n",
    "\n",
    "# Verifying uncache\n",
    "is_uncached = not spark.catalog.isCached(\"home_sales\")\n",
    "print(\"Is home_sales uncached:\", is_uncached)\n"
   ]
  },
  {
   "cell_type": "code",
   "execution_count": null,
   "id": "4fead31b",
   "metadata": {},
   "outputs": [],
   "source": [
    "\n",
    "SELECT year(date_built) AS year_built, ROUND(AVG(price), 2) AS avg_price\n",
    "FROM home_sales\n",
    "WHERE bedrooms = 3 AND bathrooms = 3\n",
    "GROUP BY year(date_built)\n"
   ]
  },
  {
   "cell_type": "code",
   "execution_count": null,
   "id": "e6a658f1",
   "metadata": {},
   "outputs": [],
   "source": [
    "\n",
    "SELECT year(date_built) AS year_built, ROUND(AVG(price), 2) AS avg_price\n",
    "FROM home_sales\n",
    "WHERE bedrooms = 3 AND bathrooms = 3 AND floors = 2 AND square_footage >= 2000\n",
    "GROUP BY year(date_built)\n"
   ]
  },
  {
   "cell_type": "code",
   "execution_count": null,
   "id": "7f6b8f59",
   "metadata": {},
   "outputs": [],
   "source": [
    "\n",
    "# Cache, partition, and query on cached and partitioned data (placeholder code)\n",
    "# ... (implement as per specific requirements and dataset)\n"
   ]
  },
  {
   "cell_type": "code",
   "execution_count": null,
   "id": "01b5dc61",
   "metadata": {},
   "outputs": [],
   "source": [
    "\n",
    "SELECT year(date_built) AS year_built, ROUND(AVG(price), 2) AS avg_price\n",
    "FROM home_sales\n",
    "WHERE bedrooms = 3 AND bathrooms = 3\n",
    "GROUP BY year(date_built)\n"
   ]
  },
  {
   "cell_type": "code",
   "execution_count": null,
   "id": "dd46efb8",
   "metadata": {},
   "outputs": [],
   "source": [
    "\n",
    "SELECT year(date_built) AS year_built, ROUND(AVG(price), 2) AS avg_price\n",
    "FROM home_sales\n",
    "WHERE bedrooms = 3 AND bathrooms = 3 AND floors = 2 AND square_footage >= 2000\n",
    "GROUP BY year(date_built)\n"
   ]
  },
  {
   "cell_type": "code",
   "execution_count": null,
   "id": "b0638b84",
   "metadata": {},
   "outputs": [],
   "source": [
    "\n",
    "# Placeholder for additional operations such as caching, partitioning, etc.\n",
    "# (Actual implementation depends on specific data and schema details)\n"
   ]
  },
  {
   "cell_type": "code",
   "execution_count": null,
   "id": "687d9b79",
   "metadata": {},
   "outputs": [],
   "source": [
    "\n",
    "SELECT year(date_built) AS year_built, ROUND(AVG(price), 2) AS avg_price\n",
    "FROM home_sales\n",
    "WHERE bedrooms = 3 AND bathrooms = 3\n",
    "GROUP BY year(date_built)\n"
   ]
  },
  {
   "cell_type": "code",
   "execution_count": null,
   "id": "becce0ea",
   "metadata": {},
   "outputs": [],
   "source": [
    "\n",
    "SELECT year(date_built) AS year_built, ROUND(AVG(price), 2) AS avg_price\n",
    "FROM home_sales\n",
    "WHERE bedrooms = 3 AND bathrooms = 3 AND floors = 2 AND square_footage >= 2000\n",
    "GROUP BY year(date_built)\n"
   ]
  },
  {
   "cell_type": "code",
   "execution_count": null,
   "id": "0bc02577",
   "metadata": {},
   "outputs": [],
   "source": [
    "\n",
    "# Placeholder for additional operations such as caching, partitioning, etc.\n",
    "# (Actual implementation depends on specific data and schema details)\n"
   ]
  }
 ],
 "metadata": {
  "colab": {
   "provenance": []
  },
  "gpuClass": "standard",
  "kernelspec": {
   "display_name": "Python 3 (ipykernel)",
   "language": "python",
   "name": "python3"
  },
  "language_info": {
   "codemirror_mode": {
    "name": "ipython",
    "version": 3
   },
   "file_extension": ".py",
   "mimetype": "text/x-python",
   "name": "python",
   "nbconvert_exporter": "python",
   "pygments_lexer": "ipython3",
   "version": "3.10.4"
  }
 },
 "nbformat": 4,
 "nbformat_minor": 0
}
